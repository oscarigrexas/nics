{
 "cells": [
  {
   "cell_type": "code",
   "execution_count": 15,
   "metadata": {},
   "outputs": [],
   "source": [
    "%matplotlib inline\n",
    "from ipywidgets import interact, interact_manual, interactive, fixed\n",
    "import ipywidgets as widgets\n",
    "import numpy as np\n",
    "\n",
    "from matplotlib import pyplot as plt\n",
    "import matplotlib\n",
    "font = {'family' : 'sans serif',\n",
    "        'weight' : 'light',\n",
    "        'size'   : 14}\n",
    "matplotlib.rc('font', **font)\n",
    "from mpl_toolkits.mplot3d import Axes3D\n",
    "import numpy as np\n",
    "#from scipy import integrate"
   ]
  },
  {
   "cell_type": "code",
   "execution_count": 16,
   "metadata": {},
   "outputs": [],
   "source": [
    "def make_grid(radius=5, density=50):\n",
    "    spacing = np.linspace(-radius, radius, density)\n",
    "    X2 = np.meshgrid(spacing, spacing)\n",
    "    grid_shape = X2[0].shape\n",
    "    return np.reshape(X2, (2, -1)).T\n",
    "\n",
    "def i_combine(functions=[]):\n",
    "    \n",
    "    n_weights = len(functions) + 1\n",
    "    \n",
    "    weight_sliders = [widgets.FloatSlider(\n",
    "        value=0,\n",
    "        min=-10.0,\n",
    "        max=10.0,\n",
    "        step=0.1,\n",
    "        description=\"w{}\".format(i),\n",
    "        disabled=False,\n",
    "        continuous_update=False,\n",
    "        orientation='horizontal',\n",
    "        readout=True,\n",
    "        readout_format='.1f',\n",
    "    ) for i in range(n_weights)]\n",
    "    \n",
    "    weight_sliders = [(-10, 10)]*n_weights\n",
    "    \n",
    "    def plot_combination(*args):\n",
    "        \n",
    "        xy = make_grid(density=100)\n",
    "        \n",
    "        z = np.zeros(shape=xy.shape[0])\n",
    "        for i, weight in enumerate(kwargs.values()):\n",
    "            if i == 0:\n",
    "                z = z + weight\n",
    "            else:\n",
    "                z = z + weight*functions[i - 1](xy)\n",
    "            \n",
    "        indep = 0\n",
    "        z += indep\n",
    "        \n",
    "        fig = plt.figure()\n",
    "        ax = fig.add_subplot(111, projection='3d')\n",
    "        ax.scatter(xy[:,0],\n",
    "                   xy[:,1],\n",
    "                   z,\n",
    "                   marker='.', s=5, alpha=0.5, c=z, cmap=\"viridis\")\n",
    "\n",
    "        # prepare the axes limits\n",
    "        ax.set_xlim((-5, 5))\n",
    "        ax.set_ylim((-5, 5))\n",
    "        ax.set_zlim((-5, 5))\n",
    "\n",
    "        ax.set_xlabel(r'x ($\\AA$)')\n",
    "        ax.set_ylabel(r'y ($\\AA$)')\n",
    "        ax.set_zlabel(r'z ($\\AA$)')\n",
    "\n",
    "        #angle = 104\n",
    "        #ax.view_init(30, angle)\n",
    "\n",
    "    kwargs = {'w{}'.format(i):slider for i, slider in enumerate(weight_sliders)}\n",
    "    interact(plot_combination, **kwargs)"
   ]
  },
  {
   "cell_type": "code",
   "execution_count": 17,
   "metadata": {},
   "outputs": [
    {
     "data": {
      "application/vnd.jupyter.widget-view+json": {
       "model_id": "55ffa6adcee342168196f7d981264ea7",
       "version_major": 2,
       "version_minor": 0
      },
      "text/plain": [
       "interactive(children=(FloatSlider(value=0.0, continuous_update=False, description='intercept', max=10.0, min=-…"
      ]
     },
     "metadata": {},
     "output_type": "display_data"
    },
    {
     "data": {
      "text/plain": [
       "<function __main__.PlotSuperposition3D(**kwargs)>"
      ]
     },
     "execution_count": 17,
     "metadata": {},
     "output_type": "execute_result"
    }
   ],
   "source": [
    "functions = [\n",
    "    (\"x\", lambda xy:xy[:,0]),\n",
    "    (\"y\", lambda xy:xy[:,1]),\n",
    "    (\"x^2\", lambda xy:np.square(xy[:,0])),\n",
    "    (\"y^2\", lambda xy:np.square(xy[:,1])),\n",
    "    (\"xy\", lambda xy:np.multiply(xy[:,0], xy[:,1])),\n",
    "    (\"sin(x)\", lambda xy:np.sin(xy[:,0])),\n",
    "    (\"sin(y)\", lambda xy:np.sin(xy[:,1])),\n",
    "    (\"sqrt(x^2 + y^2)\", lambda xy:np.sqrt(np.square(xy[:,0]) + np.square(xy[:,1]))),\n",
    "    (\"sqrt(x^2 + y^2)^2\", lambda xy:np.sqrt(np.square(xy[:,0]) + np.square(xy[:,1]))**2),\n",
    "    (\"sin(x^2 + y^2)\", lambda xy:np.sin(xy[:,0]**2 + xy[:,1]**2)),\n",
    "    #(\"1/(x^2 + y^2)\", lambda xy:1/(xy[:,0]**2 + xy[:,1]**2))\n",
    "]\n",
    "\n",
    "n_weights=len(functions) + 1\n",
    "weight_sliders = []\n",
    "for i in range(n_weights):\n",
    "    if i == 0:\n",
    "        name = \"intercept\"\n",
    "    else:\n",
    "        name = functions[i - 1][0]\n",
    "    weight_sliders.append(widgets.FloatSlider(\n",
    "        value=0,\n",
    "        min=-10.0,\n",
    "        max=10.0,\n",
    "        step=0.1,\n",
    "        description=name,\n",
    "        disabled=False,\n",
    "        continuous_update=False,\n",
    "        orientation='horizontal',\n",
    "        readout=True,\n",
    "        readout_format='.1f',\n",
    "    ))\n",
    "\n",
    "def PlotSuperposition3D(**kwargs):\n",
    "    def f(xy):\n",
    "        z = 0\n",
    "        for i, weight in enumerate(kwargs.values()):\n",
    "            if i == 0:\n",
    "                z += weight\n",
    "            else:\n",
    "                z += weight*functions[i - 1][1](xy)\n",
    "        return z\n",
    "    vf = np.vectorize(f)\n",
    "    xy = make_grid(radius=5, density=70)\n",
    "    #plt.plot(xy, f(xy))\n",
    "    #plt.gca().set_ylim(-5,5)\n",
    "    z = f(xy)\n",
    "    fig = plt.figure()\n",
    "    ax = fig.add_subplot(111, projection='3d')\n",
    "    ax.scatter(xy[:,0],\n",
    "               xy[:,1],\n",
    "               z,\n",
    "               marker='.', s=5, alpha=0.5, c=z, cmap=\"magma\")\n",
    "    ax.set_zlim((-5, 5))\n",
    "    ax.set_xlabel(r'x($\\AA$)')\n",
    "    ax.set_ylabel(r'y($\\AA$)')\n",
    "    ax.set_zlabel(r'z($\\AA$)')\n",
    "    plt.tight_layout()\n",
    "\n",
    "kwargs = {\"w{}\".format(i):slider for i, slider in enumerate(weight_sliders)}\n",
    "\n",
    "interact(PlotSuperposition3D, **kwargs)"
   ]
  },
  {
   "cell_type": "code",
   "execution_count": null,
   "metadata": {},
   "outputs": [],
   "source": []
  }
 ],
 "metadata": {
  "kernelspec": {
   "display_name": "Python 3",
   "language": "python",
   "name": "python3"
  },
  "language_info": {
   "codemirror_mode": {
    "name": "ipython",
    "version": 3
   },
   "file_extension": ".py",
   "mimetype": "text/x-python",
   "name": "python",
   "nbconvert_exporter": "python",
   "pygments_lexer": "ipython3",
   "version": "3.7.3"
  }
 },
 "nbformat": 4,
 "nbformat_minor": 4
}
